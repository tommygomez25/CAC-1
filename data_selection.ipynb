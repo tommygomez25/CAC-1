{
 "cells": [
  {
   "cell_type": "code",
   "execution_count": 1,
   "metadata": {},
   "outputs": [
    {
     "name": "stdout",
     "output_type": "stream",
     "text": [
      "              business_id                      name           address  \\\n",
      "0  M0XSSHqrASOnhgbWDJIpQA            Herb Import Co      712 Adams St   \n",
      "1  w_AMNoI1iG9eay7ncmc67w                 River 127  100 Iberville St   \n",
      "2  uczmbBk5O3tYhGue13dCDg  New Orleans Spirit Tours   723 St Peter St   \n",
      "3  YNjyv0gfOr2g8lbmUpTnKg               Copper Vine   1001 Poydras St   \n",
      "4  J_ksUDPpzPwfTGtI4zTRnQ            Riverview Room    600 Decatur St   \n",
      "\n",
      "          city state postal_code   latitude  longitude  stars  review_count  \\\n",
      "0  New Orleans    LA       70118  29.941468 -90.129953    4.0             5   \n",
      "1  New Orleans    LA       70130  29.951359 -90.064672    3.0            12   \n",
      "2  New Orleans    LA       70130  29.958431 -90.065173    4.0            38   \n",
      "3  New Orleans    LA       70112  29.950647 -90.074427    4.5           350   \n",
      "4  New Orleans    LA       70130  29.955925 -90.062962    4.5             7   \n",
      "\n",
      "   is_open                                         attributes  \\\n",
      "0        1  {'BusinessParking': '{'garage': False, 'street...   \n",
      "1        1  {'BusinessAcceptsCreditCards': 'True', 'WiFi':...   \n",
      "2        1                                  {'WiFi': 'u'no''}   \n",
      "3        1  {'NoiseLevel': 'u'average'', 'RestaurantsGoodF...   \n",
      "4        1  {'BusinessAcceptsCreditCards': 'True', 'WiFi':...   \n",
      "\n",
      "                                          categories  \\\n",
      "0  Vape Shops, Tobacco Shops, Personal Shopping, ...   \n",
      "1  Event Planning & Services, Hotels, Hotels & Tr...   \n",
      "2               Hotels & Travel, Tours, Local Flavor   \n",
      "3  Nightlife, Pubs, Event Planning & Services, Wi...   \n",
      "4  Event Planning & Services, Caterers, Party & E...   \n",
      "\n",
      "                                               hours  \n",
      "0  {'Monday': '10:0-19:0', 'Tuesday': '10:0-19:0'...  \n",
      "1                                               None  \n",
      "2  {'Monday': '0:0-0:0', 'Tuesday': '10:0-20:0', ...  \n",
      "3  {'Monday': '0:0-0:0', 'Tuesday': '11:0-21:0', ...  \n",
      "4  {'Monday': '9:0-16:0', 'Tuesday': '9:0-16:0', ...  \n"
     ]
    }
   ],
   "source": [
    "import pandas as pd\n",
    "import json\n",
    "\n",
    "df = pd.read_json('./datasets/business_dataset_new_orleans.json', lines=True)\n",
    "\n",
    "print(df.head(5))"
   ]
  },
  {
   "cell_type": "code",
   "execution_count": 2,
   "metadata": {},
   "outputs": [
    {
     "name": "stdout",
     "output_type": "stream",
     "text": [
      "city\n",
      "New Orleans    6209\n",
      "Name: count, dtype: int64\n"
     ]
    }
   ],
   "source": [
    "#count the number of businesses in each city\n",
    "city_counts = df['city'].value_counts()\n",
    "\n",
    "#print the top 10 cities by business count\n",
    "print(city_counts.head(10))"
   ]
  },
  {
   "cell_type": "code",
   "execution_count": 3,
   "metadata": {},
   "outputs": [],
   "source": [
    "#create a JSON file with only the business in Reno\n",
    "reno_business = df[df['city'] == 'Reno']\n",
    "reno_business.to_json('./datasets/business_dataset_reno.json', orient='records', lines=True)"
   ]
  },
  {
   "cell_type": "code",
   "execution_count": 4,
   "metadata": {},
   "outputs": [],
   "source": [
    "#create a JSON file with only the business in New Orleans\n",
    "# new_orleans_business = df[df['city'] == 'New Orleans']\n",
    "# new_orleans_business.to_json('./datasets/business_dataset_new_orleans.json', orient='records', lines=True)\n",
    "\n",
    "file_name = \"./datasets/business_dataset_new_orleans.json\"\n",
    "new_orleans_business = []\n",
    "\n",
    "with open(file_name, 'r') as f:\n",
    "    for line in f:\n",
    "        business = json.loads(line.strip())\n",
    "        \n",
    "        if business['city'] == 'New Orleans':\n",
    "            new_orleans_business.append(business)\n"
   ]
  },
  {
   "cell_type": "code",
   "execution_count": 5,
   "metadata": {},
   "outputs": [],
   "source": [
    "#create a JSON file with only the business in Nashville\n",
    "nashville_business = df[df['city'] == 'Nashville']\n",
    "nashville_business.to_json('./datasets/business_dataset_nashville.json', orient='records', lines=True)"
   ]
  },
  {
   "cell_type": "markdown",
   "metadata": {},
   "source": [
    "### User Filtering"
   ]
  },
  {
   "cell_type": "code",
   "execution_count": 6,
   "metadata": {},
   "outputs": [],
   "source": [
    "def read_chunks(file, cols, chunk_size=500000):\n",
    "    df = pd.read_json(\n",
    "        path_or_buf=f'original_datasets/{file}.json', chunksize=chunk_size, lines=True\n",
    "    )\n",
    "    chunk_list = [chunk[cols] for chunk in df]\n",
    "    \n",
    "    return pd.concat(chunk_list, ignore_index=True, join='outer', axis=0)"
   ]
  },
  {
   "cell_type": "code",
   "execution_count": 7,
   "metadata": {},
   "outputs": [],
   "source": [
    "users = read_chunks('yelp_academic_dataset_user', ['user_id', 'name', 'review_count', 'yelping_since', 'useful', 'funny', 'cool', 'elite', 'friends', 'fans', 'average_stars', 'compliment_hot', 'compliment_more', 'compliment_profile', 'compliment_cute', 'compliment_list', 'compliment_note', 'compliment_plain', 'compliment_cool', 'compliment_funny', 'compliment_writer', 'compliment_photos'])\n",
    "print(users.head(5))"
   ]
  },
  {
   "cell_type": "code",
   "execution_count": null,
   "metadata": {},
   "outputs": [],
   "source": [
    "reviews = read_chunks('yelp_academic_dataset_review', ['review_id', 'user_id', 'business_id', 'stars', 'useful', 'funny', 'cool', 'text', 'date'])\n",
    "print(reviews.head(5))"
   ]
  },
  {
   "cell_type": "code",
   "execution_count": null,
   "metadata": {},
   "outputs": [],
   "source": [
    "# get the reviews for the businesses in New Orleans\n",
    "new_orleans_reviews = reviews[reviews['business_id'].isin(new_orleans_business['business_id'])]\n",
    "new_orleans_reviews.to_json('./datasets/review_dataset_new_orleans.json', orient='records', lines=True)"
   ]
  },
  {
   "cell_type": "code",
   "execution_count": null,
   "metadata": {},
   "outputs": [],
   "source": [
    "# get the users who have reviewed businesses in New Orleans\n",
    "new_orleans_users = users[users['user_id'].isin(new_orleans_reviews['user_id'])]\n",
    "new_orleans_users.to_json('./datasets/user_dataset_new_orleans.json', orient='records', lines=True)"
   ]
  }
 ],
 "metadata": {
  "kernelspec": {
   "display_name": "Python 3",
   "language": "python",
   "name": "python3"
  },
  "language_info": {
   "codemirror_mode": {
    "name": "ipython",
    "version": 3
   },
   "file_extension": ".py",
   "mimetype": "text/x-python",
   "name": "python",
   "nbconvert_exporter": "python",
   "pygments_lexer": "ipython3",
   "version": "3.11.5"
  }
 },
 "nbformat": 4,
 "nbformat_minor": 2
}
